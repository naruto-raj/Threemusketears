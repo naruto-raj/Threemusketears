{
 "cells": [
  {
   "cell_type": "code",
   "execution_count": null,
   "id": "139d90cf-2158-4757-9f87-bee4e8eac189",
   "metadata": {},
   "outputs": [],
   "source": [
    "import base64\n",
    "import os\n",
    "from PIL import Image\n",
    "from io import BytesIO\n",
    "import requests\n",
    "import time"
   ]
  },
  {
   "cell_type": "code",
   "execution_count": null,
   "id": "9ed75c0f-05f4-4663-84cd-a10f4603007b",
   "metadata": {},
   "outputs": [],
   "source": [
    "# authentication\n",
    "engine_id = \"stable-diffusion-v1-6\"\n",
    "api_host = os.getenv('API_HOST', 'https://api.stability.ai')\n",
    "api_key = \"sk-dBeXPNuA8GtHabuncaZ6a7uNHnJlnaLVuaz4olhxXOf3pcOn\""
   ]
  },
  {
   "cell_type": "code",
   "execution_count": null,
   "id": "30ca8213-ff4e-4a4d-829c-ba5a5ee702f5",
   "metadata": {},
   "outputs": [],
   "source": [
    "#text to image\n",
    "def text_to_image(api_key, prompt, debug=False):\n",
    "    \"\"\" generates image based on text prompt and returns image data \"\"\"\n",
    "    try:\n",
    "        response = requests.post(f\"{api_host}/v1/generation/{engine_id}/text-to-image\",\n",
    "                                 headers={\n",
    "                                     \"Content-Type\": \"application/json\",\n",
    "                                     \"Accept\": \"application/json\",\n",
    "                                     \"Authorization\": f\"Bearer {api_key}\"},\n",
    "                                json={\n",
    "                                    \"text_prompts\": [\n",
    "                                        {\"text\": prompt}\n",
    "                                    ],\n",
    "                                    \"cfg_scale\": 7,\n",
    "                                    \"height\": 576,\n",
    "                                    \"width\": 1024,\n",
    "                                    \"samples\": 1,\n",
    "                                    \"steps\": 30,\n",
    "                                })\n",
    "        \n",
    "        data = response.json()\n",
    "    \n",
    "        # set debug=true if debugging, will save file to local\n",
    "        if debug:\n",
    "            for i, image in enumerate(data[\"artifacts\"]):\n",
    "                with open(f\"./txt2img_{i}.png\", \"wb\") as f:\n",
    "                    f.write(base64.b64decode(image[\"base64\"]))\n",
    "        \n",
    "        image_base64 = response.json()[\"artifacts\"][0][\"base64\"]  # Assuming only one image is generated\n",
    "        decoded_image = base64.b64decode(image_base64)\n",
    "        print(decoded_image)\n",
    "        return decoded_image\n",
    "\n",
    "    except requests.exceptions.RequestException as e:\n",
    "        print(f\"An error occurred: {e}\")"
   ]
  },
  {
   "cell_type": "code",
   "execution_count": null,
   "id": "a1b319f1-9fa3-4c5f-9f3e-543accd655c3",
   "metadata": {},
   "outputs": [],
   "source": [
    "image_data = text_to_image(api_key, \"A forest in a fantasy world with a dragon guarding a cave with mountains in the background\")"
   ]
  },
  {
   "cell_type": "code",
   "execution_count": null,
   "id": "894a3808-dae5-4a31-91dd-ebfe83532de3",
   "metadata": {},
   "outputs": [],
   "source": [
    "# image to video\n",
    "def image_to_video(api_key, img, debug=False):\n",
    "    \"\"\" generates video based on image and returns video data \"\"\"\n",
    "    try:\n",
    "        get_response = requests.post(\n",
    "            f\"https://api.stability.ai/v2alpha/generation/image-to-video\",\n",
    "            headers={\"authorization\": api_key},\n",
    "            files={\"image\": img},\n",
    "            data={\n",
    "                \"seed\": 0,\n",
    "                \"cfg_scale\": 1.8,\n",
    "                \"motion_bucket_id\": 127\n",
    "            },\n",
    "        )\n",
    "        \n",
    "        get_response.raise_for_status()\n",
    "        generation_id = get_response.json().get('id')\n",
    "    \n",
    "    except requests.exceptions.RequestException as e:\n",
    "        print(f\"An error occurred during image-to-video generation: {e}\")\n",
    "\n",
    "    try:\n",
    "        status = 0\n",
    "        while status!=200:\n",
    "            time.sleep(1)\n",
    "            post_response = requests.request(\n",
    "            \"GET\",\n",
    "            f\"https://api.stability.ai/v2alpha/generation/image-to-video/result/{generation_id}\",\n",
    "            headers={\n",
    "                'Accept': \"video/*\",  \n",
    "                'authorization': api_key\n",
    "            },)\n",
    "            post_response.raise_for_status()\n",
    "            status = post_response.status_code\n",
    "        \n",
    "        # set debug=true if debugging, will save file to local\n",
    "        if debug:\n",
    "            with open(\"video.mp4\", 'wb') as file:\n",
    "                file.write(post_response.content)\n",
    "                \n",
    "        return post_response.content\n",
    "    except requests.exceptions.RequestException as e:\n",
    "        print(f\"An error occurred during image-to-video result retrieval: {e}\")"
   ]
  },
  {
   "cell_type": "code",
   "execution_count": null,
   "id": "be4660b7-2239-4f10-9391-f912124d7175",
   "metadata": {},
   "outputs": [],
   "source": [
    "video_data = image_to_video(api_key, image_data)"
   ]
  }
 ],
 "metadata": {
  "kernelspec": {
   "display_name": "Python 3 (ipykernel)",
   "language": "python",
   "name": "python3"
  },
  "language_info": {
   "codemirror_mode": {
    "name": "ipython",
    "version": 3
   },
   "file_extension": ".py",
   "mimetype": "text/x-python",
   "name": "python",
   "nbconvert_exporter": "python",
   "pygments_lexer": "ipython3",
   "version": "3.10.13"
  }
 },
 "nbformat": 4,
 "nbformat_minor": 5
}
